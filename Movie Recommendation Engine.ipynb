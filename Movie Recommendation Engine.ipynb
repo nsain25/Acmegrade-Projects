{
 "cells": [
  {
   "cell_type": "code",
   "execution_count": 1,
   "id": "fdf4ec79",
   "metadata": {},
   "outputs": [],
   "source": [
    "import pandas as pd\n",
    "import numpy as np\n",
    "import plotly.figure_factory as ff\n",
    "import plotly.express as px\n",
    "import plotly.graph_objects as go\n",
    "import matplotlib.pyplot as plt\n",
    "import seaborn as sns\n"
   ]
  },
  {
   "cell_type": "code",
   "execution_count": 2,
   "id": "6c128bbc",
   "metadata": {},
   "outputs": [],
   "source": [
    "import pandas as pd\n",
    "\n",
    "csv_file_path = '/mnt/c/Users/preet/Desktop/Projects/Movie Recommendation/Movie Recommendation/Best Movie by Year Netflix.csv'\n",
    "df = pd.read_csv(csv_file_path)"
   ]
  },
  {
   "cell_type": "code",
   "execution_count": 3,
   "id": "75b8f7a2",
   "metadata": {},
   "outputs": [
    {
     "name": "stdout",
     "output_type": "stream",
     "text": [
      "    index                                           TITLE  RELEASE_YEAR  \\\n",
      "0       0                                 White Christmas          1954   \n",
      "1       1                            The Guns of Navarone          1961   \n",
      "2       2                                    My Fair Lady          1964   \n",
      "3       3                                Bonnie and Clyde          1967   \n",
      "4       4                                     Dirty Harry          1971   \n",
      "5       5                                    The Exorcist          1973   \n",
      "6       6                 Monty Python and the Holy Grail          1975   \n",
      "7       7                                     Taxi Driver          1976   \n",
      "8       8                                   Life of Brian          1979   \n",
      "9       9                                 The Blue Lagoon          1980   \n",
      "10     10                                           Annie          1982   \n",
      "11     11                                       Christine          1983   \n",
      "12     12                     Once Upon a Time in America          1984   \n",
      "13     13                                     Stand by Me          1986   \n",
      "14     14                               Full Metal Jacket          1987   \n",
      "15     15                         When Harry Met Sally...          1989   \n",
      "16     16                                      Awakenings          1990   \n",
      "17     17                                         My Girl          1991   \n",
      "18     18                         A River Runs Through It          1992   \n",
      "19     19                               Menace II Society          1993   \n",
      "20     20                                    Forrest Gump          1994   \n",
      "21     21                                       Desperado          1995   \n",
      "22     22                                   Happy Gilmore          1996   \n",
      "23     23  Neon Genesis Evangelion: The End of Evangelion          1997   \n",
      "24     24                             Saving Private Ryan          1998   \n",
      "25     25                               Girl, Interrupted          1999   \n",
      "26     26                                     The Patriot          2000   \n",
      "27     27               Lagaan: Once Upon a Time in India          2001   \n",
      "28     28                               Road to Perdition          2002   \n",
      "29     29                                        Big Fish          2003   \n",
      "30     30                                          Swades          2004   \n",
      "31     31                             Memoirs of a Geisha          2005   \n",
      "32     32                                 Rang De Basanti          2006   \n",
      "33     33                             Like Stars on Earth          2007   \n",
      "34     34                                          Ip Man          2008   \n",
      "35     35                                        3 Idiots          2009   \n",
      "36     36                                       Inception          2010   \n",
      "37     37                                         Warrior          2011   \n",
      "38     38                                Django Unchained          2012   \n",
      "39     39                                            Rush          2013   \n",
      "40     40                                           Queen          2014   \n",
      "41     41                                        Drishyam          2015   \n",
      "42     42                                          Dangal          2016   \n",
      "43     43                      Bāhubali 2: The Conclusion          2017   \n",
      "44     44                                       Andhadhun          2018   \n",
      "45     45                 Dave Chappelle: Sticks & Stones          2019   \n",
      "46     46        David Attenborough: A Life on Our Planet          2020   \n",
      "47     47                              Bo Burnham: Inside          2021   \n",
      "48     48                             The Tinder Swindler          2022   \n",
      "\n",
      "    SCORE   MAIN_GENRE MAIN_PRODUCTION  \n",
      "0     7.5      romance              US  \n",
      "1     7.5          war              US  \n",
      "2     7.8        drama              US  \n",
      "3     7.7        drama              US  \n",
      "4     7.7     thriller              US  \n",
      "5     8.1       horror              US  \n",
      "6     8.2       comedy              GB  \n",
      "7     8.3        crime              US  \n",
      "8     8.0       comedy              GB  \n",
      "9     5.8      romance              US  \n",
      "10    6.6        drama              US  \n",
      "11    6.7       horror              US  \n",
      "12    8.3        drama              US  \n",
      "13    8.1        drama              US  \n",
      "14    8.3        drama              GB  \n",
      "15    7.7      romance              US  \n",
      "16    7.8        drama              US  \n",
      "17    6.9       comedy              US  \n",
      "18    7.2        drama              US  \n",
      "19    7.5        drama              US  \n",
      "20    8.8        drama              US  \n",
      "21    7.1     thriller              US  \n",
      "22    7.0       comedy              US  \n",
      "23    8.0        scifi              JP  \n",
      "24    8.6        drama              US  \n",
      "25    7.3        drama              US  \n",
      "26    7.2        drama              DE  \n",
      "27    8.1        drama              IN  \n",
      "28    7.7     thriller              US  \n",
      "29    8.0        drama              US  \n",
      "30    8.1        drama              IN  \n",
      "31    7.3        drama              FR  \n",
      "32    8.1       comedy              IN  \n",
      "33    8.3        drama              IN  \n",
      "34    8.0        drama              HK  \n",
      "35    8.4       comedy              IN  \n",
      "36    8.8        scifi              GB  \n",
      "37    8.2        drama              US  \n",
      "38    8.4      western              US  \n",
      "39    8.1        drama              US  \n",
      "40    8.2        drama              IN  \n",
      "41    8.2     thriller              IN  \n",
      "42    8.4       action              IN  \n",
      "43    8.2      fantasy              IN  \n",
      "44    8.2     thriller              IN  \n",
      "45    8.4       comedy              US  \n",
      "46    9.0  documentary              GB  \n",
      "47    8.7       comedy              US  \n",
      "48    7.2        crime              GB  \n"
     ]
    }
   ],
   "source": [
    "print(df)"
   ]
  },
  {
   "cell_type": "code",
   "execution_count": 4,
   "id": "bce526db",
   "metadata": {},
   "outputs": [],
   "source": [
    "df = df[[\"TITLE\",\"MAIN_GENRE\",\"RELEASE_YEAR\",\"MAIN_PRODUCTION\",\"SCORE\"]]"
   ]
  },
  {
   "cell_type": "code",
   "execution_count": 5,
   "id": "4191aff1",
   "metadata": {},
   "outputs": [
    {
     "data": {
      "text/html": [
       "<div>\n",
       "<style scoped>\n",
       "    .dataframe tbody tr th:only-of-type {\n",
       "        vertical-align: middle;\n",
       "    }\n",
       "\n",
       "    .dataframe tbody tr th {\n",
       "        vertical-align: top;\n",
       "    }\n",
       "\n",
       "    .dataframe thead th {\n",
       "        text-align: right;\n",
       "    }\n",
       "</style>\n",
       "<table border=\"1\" class=\"dataframe\">\n",
       "  <thead>\n",
       "    <tr style=\"text-align: right;\">\n",
       "      <th></th>\n",
       "      <th>TITLE</th>\n",
       "      <th>MAIN_GENRE</th>\n",
       "      <th>RELEASE_YEAR</th>\n",
       "      <th>MAIN_PRODUCTION</th>\n",
       "      <th>SCORE</th>\n",
       "    </tr>\n",
       "  </thead>\n",
       "  <tbody>\n",
       "    <tr>\n",
       "      <th>0</th>\n",
       "      <td>White Christmas</td>\n",
       "      <td>romance</td>\n",
       "      <td>1954</td>\n",
       "      <td>US</td>\n",
       "      <td>7.5</td>\n",
       "    </tr>\n",
       "    <tr>\n",
       "      <th>1</th>\n",
       "      <td>The Guns of Navarone</td>\n",
       "      <td>war</td>\n",
       "      <td>1961</td>\n",
       "      <td>US</td>\n",
       "      <td>7.5</td>\n",
       "    </tr>\n",
       "    <tr>\n",
       "      <th>2</th>\n",
       "      <td>My Fair Lady</td>\n",
       "      <td>drama</td>\n",
       "      <td>1964</td>\n",
       "      <td>US</td>\n",
       "      <td>7.8</td>\n",
       "    </tr>\n",
       "    <tr>\n",
       "      <th>3</th>\n",
       "      <td>Bonnie and Clyde</td>\n",
       "      <td>drama</td>\n",
       "      <td>1967</td>\n",
       "      <td>US</td>\n",
       "      <td>7.7</td>\n",
       "    </tr>\n",
       "    <tr>\n",
       "      <th>4</th>\n",
       "      <td>Dirty Harry</td>\n",
       "      <td>thriller</td>\n",
       "      <td>1971</td>\n",
       "      <td>US</td>\n",
       "      <td>7.7</td>\n",
       "    </tr>\n",
       "  </tbody>\n",
       "</table>\n",
       "</div>"
      ],
      "text/plain": [
       "                  TITLE MAIN_GENRE  RELEASE_YEAR MAIN_PRODUCTION  SCORE\n",
       "0       White Christmas    romance          1954              US    7.5\n",
       "1  The Guns of Navarone        war          1961              US    7.5\n",
       "2          My Fair Lady      drama          1964              US    7.8\n",
       "3      Bonnie and Clyde      drama          1967              US    7.7\n",
       "4           Dirty Harry   thriller          1971              US    7.7"
      ]
     },
     "execution_count": 5,
     "metadata": {},
     "output_type": "execute_result"
    }
   ],
   "source": [
    "df.head()"
   ]
  },
  {
   "cell_type": "code",
   "execution_count": 6,
   "id": "30e613e3",
   "metadata": {},
   "outputs": [
    {
     "name": "stdout",
     "output_type": "stream",
     "text": [
      "<class 'pandas.core.frame.DataFrame'>\n",
      "RangeIndex: 49 entries, 0 to 48\n",
      "Data columns (total 5 columns):\n",
      " #   Column           Non-Null Count  Dtype  \n",
      "---  ------           --------------  -----  \n",
      " 0   TITLE            49 non-null     object \n",
      " 1   MAIN_GENRE       49 non-null     object \n",
      " 2   RELEASE_YEAR     49 non-null     int64  \n",
      " 3   MAIN_PRODUCTION  49 non-null     object \n",
      " 4   SCORE            49 non-null     float64\n",
      "dtypes: float64(1), int64(1), object(3)\n",
      "memory usage: 2.0+ KB\n"
     ]
    }
   ],
   "source": [
    "df.info()"
   ]
  },
  {
   "cell_type": "code",
   "execution_count": 7,
   "id": "aa36d157",
   "metadata": {},
   "outputs": [
    {
     "data": {
      "text/plain": [
       "TITLE              0\n",
       "MAIN_GENRE         0\n",
       "RELEASE_YEAR       0\n",
       "MAIN_PRODUCTION    0\n",
       "SCORE              0\n",
       "dtype: int64"
      ]
     },
     "execution_count": 7,
     "metadata": {},
     "output_type": "execute_result"
    }
   ],
   "source": [
    "df.isnull().sum()"
   ]
  },
  {
   "cell_type": "code",
   "execution_count": 8,
   "id": "fe636535",
   "metadata": {},
   "outputs": [
    {
     "data": {
      "text/plain": [
       "TITLE\n",
       "David Attenborough: A Life on Our Planet    9.0\n",
       "Forrest Gump                                8.8\n",
       "Inception                                   8.8\n",
       "Bo Burnham: Inside                          8.7\n",
       "Saving Private Ryan                         8.6\n",
       "3 Idiots                                    8.4\n",
       "Dangal                                      8.4\n",
       "Dave Chappelle: Sticks & Stones             8.4\n",
       "Django Unchained                            8.4\n",
       "Full Metal Jacket                           8.3\n",
       "Name: SCORE, dtype: float64"
      ]
     },
     "execution_count": 8,
     "metadata": {},
     "output_type": "execute_result"
    }
   ],
   "source": [
    "df.groupby(['TITLE'])['SCORE'].max().nlargest(10)"
   ]
  },
  {
   "cell_type": "code",
   "execution_count": 9,
   "id": "841d735d",
   "metadata": {},
   "outputs": [
    {
     "data": {
      "text/html": [
       "<div>\n",
       "<style scoped>\n",
       "    .dataframe tbody tr th:only-of-type {\n",
       "        vertical-align: middle;\n",
       "    }\n",
       "\n",
       "    .dataframe tbody tr th {\n",
       "        vertical-align: top;\n",
       "    }\n",
       "\n",
       "    .dataframe thead th {\n",
       "        text-align: right;\n",
       "    }\n",
       "</style>\n",
       "<table border=\"1\" class=\"dataframe\">\n",
       "  <thead>\n",
       "    <tr style=\"text-align: right;\">\n",
       "      <th></th>\n",
       "      <th>TITLE</th>\n",
       "      <th>SCORE</th>\n",
       "    </tr>\n",
       "  </thead>\n",
       "  <tbody>\n",
       "    <tr>\n",
       "      <th>9</th>\n",
       "      <td>Full Metal Jacket</td>\n",
       "      <td>8.3</td>\n",
       "    </tr>\n",
       "    <tr>\n",
       "      <th>5</th>\n",
       "      <td>3 Idiots</td>\n",
       "      <td>8.4</td>\n",
       "    </tr>\n",
       "    <tr>\n",
       "      <th>6</th>\n",
       "      <td>Dangal</td>\n",
       "      <td>8.4</td>\n",
       "    </tr>\n",
       "    <tr>\n",
       "      <th>7</th>\n",
       "      <td>Dave Chappelle: Sticks &amp; Stones</td>\n",
       "      <td>8.4</td>\n",
       "    </tr>\n",
       "    <tr>\n",
       "      <th>8</th>\n",
       "      <td>Django Unchained</td>\n",
       "      <td>8.4</td>\n",
       "    </tr>\n",
       "    <tr>\n",
       "      <th>4</th>\n",
       "      <td>Saving Private Ryan</td>\n",
       "      <td>8.6</td>\n",
       "    </tr>\n",
       "    <tr>\n",
       "      <th>3</th>\n",
       "      <td>Bo Burnham: Inside</td>\n",
       "      <td>8.7</td>\n",
       "    </tr>\n",
       "    <tr>\n",
       "      <th>1</th>\n",
       "      <td>Forrest Gump</td>\n",
       "      <td>8.8</td>\n",
       "    </tr>\n",
       "    <tr>\n",
       "      <th>2</th>\n",
       "      <td>Inception</td>\n",
       "      <td>8.8</td>\n",
       "    </tr>\n",
       "    <tr>\n",
       "      <th>0</th>\n",
       "      <td>David Attenborough: A Life on Our Planet</td>\n",
       "      <td>9.0</td>\n",
       "    </tr>\n",
       "  </tbody>\n",
       "</table>\n",
       "</div>"
      ],
      "text/plain": [
       "                                      TITLE  SCORE\n",
       "9                         Full Metal Jacket    8.3\n",
       "5                                  3 Idiots    8.4\n",
       "6                                    Dangal    8.4\n",
       "7           Dave Chappelle: Sticks & Stones    8.4\n",
       "8                          Django Unchained    8.4\n",
       "4                       Saving Private Ryan    8.6\n",
       "3                        Bo Burnham: Inside    8.7\n",
       "1                              Forrest Gump    8.8\n",
       "2                                 Inception    8.8\n",
       "0  David Attenborough: A Life on Our Planet    9.0"
      ]
     },
     "execution_count": 9,
     "metadata": {},
     "output_type": "execute_result"
    }
   ],
   "source": [
    "df.groupby(['TITLE'])['SCORE'].min().nlargest(10).reset_index().sort_values('SCORE', ascending=True)"
   ]
  },
  {
   "cell_type": "code",
   "execution_count": 10,
   "id": "f324d9c6",
   "metadata": {},
   "outputs": [
    {
     "data": {
      "text/plain": [
       "MAIN_GENRE\n",
       "documentary    9.0\n",
       "drama          8.8\n",
       "scifi          8.8\n",
       "comedy         8.7\n",
       "action         8.4\n",
       "western        8.4\n",
       "crime          8.3\n",
       "fantasy        8.2\n",
       "thriller       8.2\n",
       "horror         8.1\n",
       "Name: SCORE, dtype: float64"
      ]
     },
     "execution_count": 10,
     "metadata": {},
     "output_type": "execute_result"
    }
   ],
   "source": [
    "df.groupby(['MAIN_GENRE'])['SCORE'].max().nlargest(10)"
   ]
  },
  {
   "cell_type": "code",
   "execution_count": 11,
   "id": "cdc3120d",
   "metadata": {},
   "outputs": [
    {
     "data": {
      "text/html": [
       "<div>\n",
       "<style scoped>\n",
       "    .dataframe tbody tr th:only-of-type {\n",
       "        vertical-align: middle;\n",
       "    }\n",
       "\n",
       "    .dataframe tbody tr th {\n",
       "        vertical-align: top;\n",
       "    }\n",
       "\n",
       "    .dataframe thead th {\n",
       "        text-align: right;\n",
       "    }\n",
       "</style>\n",
       "<table border=\"1\" class=\"dataframe\">\n",
       "  <thead>\n",
       "    <tr style=\"text-align: right;\">\n",
       "      <th></th>\n",
       "      <th>MAIN_GENRE</th>\n",
       "      <th>SCORE</th>\n",
       "    </tr>\n",
       "  </thead>\n",
       "  <tbody>\n",
       "    <tr>\n",
       "      <th>9</th>\n",
       "      <td>horror</td>\n",
       "      <td>6.7</td>\n",
       "    </tr>\n",
       "    <tr>\n",
       "      <th>8</th>\n",
       "      <td>comedy</td>\n",
       "      <td>6.9</td>\n",
       "    </tr>\n",
       "    <tr>\n",
       "      <th>7</th>\n",
       "      <td>thriller</td>\n",
       "      <td>7.1</td>\n",
       "    </tr>\n",
       "    <tr>\n",
       "      <th>6</th>\n",
       "      <td>crime</td>\n",
       "      <td>7.2</td>\n",
       "    </tr>\n",
       "    <tr>\n",
       "      <th>5</th>\n",
       "      <td>war</td>\n",
       "      <td>7.5</td>\n",
       "    </tr>\n",
       "    <tr>\n",
       "      <th>4</th>\n",
       "      <td>scifi</td>\n",
       "      <td>8.0</td>\n",
       "    </tr>\n",
       "    <tr>\n",
       "      <th>3</th>\n",
       "      <td>fantasy</td>\n",
       "      <td>8.2</td>\n",
       "    </tr>\n",
       "    <tr>\n",
       "      <th>1</th>\n",
       "      <td>action</td>\n",
       "      <td>8.4</td>\n",
       "    </tr>\n",
       "    <tr>\n",
       "      <th>2</th>\n",
       "      <td>western</td>\n",
       "      <td>8.4</td>\n",
       "    </tr>\n",
       "    <tr>\n",
       "      <th>0</th>\n",
       "      <td>documentary</td>\n",
       "      <td>9.0</td>\n",
       "    </tr>\n",
       "  </tbody>\n",
       "</table>\n",
       "</div>"
      ],
      "text/plain": [
       "    MAIN_GENRE  SCORE\n",
       "9       horror    6.7\n",
       "8       comedy    6.9\n",
       "7     thriller    7.1\n",
       "6        crime    7.2\n",
       "5          war    7.5\n",
       "4        scifi    8.0\n",
       "3      fantasy    8.2\n",
       "1       action    8.4\n",
       "2      western    8.4\n",
       "0  documentary    9.0"
      ]
     },
     "execution_count": 11,
     "metadata": {},
     "output_type": "execute_result"
    }
   ],
   "source": [
    "df.groupby(['MAIN_GENRE'])['SCORE'].min().nlargest(10).reset_index().sort_values('SCORE', ascending=True)"
   ]
  },
  {
   "cell_type": "code",
   "execution_count": 12,
   "id": "d10299e1",
   "metadata": {},
   "outputs": [
    {
     "data": {
      "text/plain": [
       "RELEASE_YEAR\n",
       "2020    9.0\n",
       "1994    8.8\n",
       "2010    8.8\n",
       "2021    8.7\n",
       "1998    8.6\n",
       "2009    8.4\n",
       "2012    8.4\n",
       "2016    8.4\n",
       "2019    8.4\n",
       "1976    8.3\n",
       "Name: SCORE, dtype: float64"
      ]
     },
     "execution_count": 12,
     "metadata": {},
     "output_type": "execute_result"
    }
   ],
   "source": [
    "df.groupby(['RELEASE_YEAR'])['SCORE'].max().nlargest(10)"
   ]
  },
  {
   "cell_type": "code",
   "execution_count": 13,
   "id": "d8154dac",
   "metadata": {},
   "outputs": [
    {
     "data": {
      "text/html": [
       "<div>\n",
       "<style scoped>\n",
       "    .dataframe tbody tr th:only-of-type {\n",
       "        vertical-align: middle;\n",
       "    }\n",
       "\n",
       "    .dataframe tbody tr th {\n",
       "        vertical-align: top;\n",
       "    }\n",
       "\n",
       "    .dataframe thead th {\n",
       "        text-align: right;\n",
       "    }\n",
       "</style>\n",
       "<table border=\"1\" class=\"dataframe\">\n",
       "  <thead>\n",
       "    <tr style=\"text-align: right;\">\n",
       "      <th></th>\n",
       "      <th>RELEASE_YEAR</th>\n",
       "      <th>SCORE</th>\n",
       "    </tr>\n",
       "  </thead>\n",
       "  <tbody>\n",
       "    <tr>\n",
       "      <th>9</th>\n",
       "      <td>1976</td>\n",
       "      <td>8.3</td>\n",
       "    </tr>\n",
       "    <tr>\n",
       "      <th>5</th>\n",
       "      <td>2009</td>\n",
       "      <td>8.4</td>\n",
       "    </tr>\n",
       "    <tr>\n",
       "      <th>6</th>\n",
       "      <td>2012</td>\n",
       "      <td>8.4</td>\n",
       "    </tr>\n",
       "    <tr>\n",
       "      <th>7</th>\n",
       "      <td>2016</td>\n",
       "      <td>8.4</td>\n",
       "    </tr>\n",
       "    <tr>\n",
       "      <th>8</th>\n",
       "      <td>2019</td>\n",
       "      <td>8.4</td>\n",
       "    </tr>\n",
       "    <tr>\n",
       "      <th>4</th>\n",
       "      <td>1998</td>\n",
       "      <td>8.6</td>\n",
       "    </tr>\n",
       "    <tr>\n",
       "      <th>3</th>\n",
       "      <td>2021</td>\n",
       "      <td>8.7</td>\n",
       "    </tr>\n",
       "    <tr>\n",
       "      <th>1</th>\n",
       "      <td>1994</td>\n",
       "      <td>8.8</td>\n",
       "    </tr>\n",
       "    <tr>\n",
       "      <th>2</th>\n",
       "      <td>2010</td>\n",
       "      <td>8.8</td>\n",
       "    </tr>\n",
       "    <tr>\n",
       "      <th>0</th>\n",
       "      <td>2020</td>\n",
       "      <td>9.0</td>\n",
       "    </tr>\n",
       "  </tbody>\n",
       "</table>\n",
       "</div>"
      ],
      "text/plain": [
       "   RELEASE_YEAR  SCORE\n",
       "9          1976    8.3\n",
       "5          2009    8.4\n",
       "6          2012    8.4\n",
       "7          2016    8.4\n",
       "8          2019    8.4\n",
       "4          1998    8.6\n",
       "3          2021    8.7\n",
       "1          1994    8.8\n",
       "2          2010    8.8\n",
       "0          2020    9.0"
      ]
     },
     "execution_count": 13,
     "metadata": {},
     "output_type": "execute_result"
    }
   ],
   "source": [
    "df.groupby(['RELEASE_YEAR'])['SCORE'].min().nlargest(10).reset_index().sort_values('SCORE', ascending=True)"
   ]
  },
  {
   "cell_type": "code",
   "execution_count": 14,
   "id": "159a6f92",
   "metadata": {},
   "outputs": [
    {
     "data": {
      "image/png": "[encoded data removed]",
      "text/plain": [
       "<Figure size 1500x500 with 1 Axes>"
      ]
     },
     "metadata": {},
     "output_type": "display_data"
    }
   ],
   "source": [
    "graf_dados = df.groupby(['TITLE'])['SCORE'].max().nlargest(10)\n",
    "import matplotlib.pyplot as plt\n",
    "plt.figure(figsize=(15,5))\n",
    "graf_dados=plt.bar(graf_dados.index, graf_dados.values)\n",
    "plt.title('Ranking of Films by Title')\n",
    "plt.bar_label(graf_dados)\n",
    "plt.xticks(rotation=90)\n",
    "plt.show()"
   ]
  },
  {
   "cell_type": "code",
   "execution_count": 15,
   "id": "7264094f",
   "metadata": {},
   "outputs": [
    {
     "data": {
      "image/png": "[encoded data removed]",
      "text/plain": [
       "<Figure size 1500x500 with 1 Axes>"
      ]
     },
     "metadata": {},
     "output_type": "display_data"
    }
   ],
   "source": [
    "graf_dados = df.groupby(['MAIN_GENRE'])['SCORE'].max().nlargest(10)\n",
    "import matplotlib.pyplot as plt\n",
    "plt.figure(figsize=(15,5))\n",
    "graf_dados=plt.bar(graf_dados.index, graf_dados.values)\n",
    "plt.title('Ranking of Films by MAIN_GENRE')\n",
    "plt.bar_label(graf_dados)\n",
    "plt.xticks(rotation=90)\n",
    "plt.show()"
   ]
  },
  {
   "cell_type": "code",
   "execution_count": 16,
   "id": "9a858dfc",
   "metadata": {},
   "outputs": [
    {
     "data": {
      "image/png": "[encoded data removed]",
      "text/plain": [
       "<Figure size 1500x500 with 1 Axes>"
      ]
     },
     "metadata": {},
     "output_type": "display_data"
    }
   ],
   "source": [
    "graf_dados = df.groupby(['RELEASE_YEAR'])['SCORE'].max().nlargest(10)\n",
    "import matplotlib.pyplot as plt\n",
    "plt.figure(figsize=(15,5))\n",
    "graf_dados=plt.bar(graf_dados.index, graf_dados.values)\n",
    "plt.title('Ranking of Films by RELEASE_YEAR')\n",
    "plt.bar_label(graf_dados)\n",
    "plt.xticks(rotation=90)\n",
    "plt.show()"
   ]
  },
  {
   "cell_type": "code",
   "execution_count": 17,
   "id": "9dd5a60d",
   "metadata": {},
   "outputs": [
    {
     "data": {
      "image/png": "[encoded data removed]",
      "text/plain": [
       "<Figure size 1500x500 with 1 Axes>"
      ]
     },
     "metadata": {},
     "output_type": "display_data"
    }
   ],
   "source": [
    "average_scores_by_year = df.groupby('RELEASE_YEAR')['SCORE'].mean()\n",
    "plt.figure(figsize=(15, 5))\n",
    "average_scores_by_year.plot(kind='bar')\n",
    "plt.title('Average Score by Release Year')\n",
    "plt.xlabel('Release Year')\n",
    "plt.ylabel('Average Score')\n",
    "plt.xticks(rotation=45)\n",
    "plt.show()\n"
   ]
  },
  {
   "cell_type": "code",
   "execution_count": 18,
   "id": "20444044",
   "metadata": {},
   "outputs": [
    {
     "name": "stdout",
     "output_type": "stream",
     "text": [
      "Top Rated Action Movies of 2022:\n",
      "Empty DataFrame\n",
      "Columns: [TITLE, MAIN_GENRE, RELEASE_YEAR, SCORE]\n",
      "Index: []\n"
     ]
    }
   ],
   "source": [
    "desired_genre = \"Action\"  # Replace with user input\n",
    "desired_year = 2022  # Replace with user input\n",
    "\n",
    "filtered_movies = df[(df['MAIN_GENRE'] == desired_genre) & (df['RELEASE_YEAR'] == desired_year)]\n",
    "top_rated_filtered = filtered_movies.nlargest(10, 'SCORE')\n",
    "\n",
    "print(f\"Top Rated {desired_genre} Movies of {desired_year}:\")\n",
    "print(top_rated_filtered[['TITLE', 'MAIN_GENRE', 'RELEASE_YEAR', 'SCORE']])"
   ]
  },
  {
   "cell_type": "code",
   "execution_count": 19,
   "id": "d3183789",
   "metadata": {},
   "outputs": [
    {
     "data": {
      "image/png": "[encoded data removed]",
      "text/plain": [
       "<Figure size 1000x500 with 1 Axes>"
      ]
     },
     "metadata": {},
     "output_type": "display_data"
    }
   ],
   "source": [
    "plt.figure(figsize=(10, 5))\n",
    "plt.hist(df['SCORE'], bins=20, edgecolor='black')\n",
    "plt.title('Distribution of Movie Scores')\n",
    "plt.xlabel('Score')\n",
    "plt.ylabel('Frequency')\n",
    "plt.show()\n"
   ]
  },
  {
   "cell_type": "code",
   "execution_count": 20,
   "id": "928c9bb9",
   "metadata": {},
   "outputs": [],
   "source": [
    "from sklearn.model_selection import train_test_split"
   ]
  },
  {
   "cell_type": "code",
   "execution_count": 21,
   "id": "23ed408b",
   "metadata": {},
   "outputs": [
    {
     "name": "stdout",
     "output_type": "stream",
     "text": [
      "Train set shape: (39, 3)\n",
      "Test set shape: (10, 3)\n"
     ]
    }
   ],
   "source": [
    "# Prepare features and target\n",
    "X = df[['MAIN_GENRE', 'RELEASE_YEAR', 'MAIN_PRODUCTION']]\n",
    "y = df['SCORE']\n",
    "\n",
    "# Split the dataset into train and test sets\n",
    "X_train, X_test, y_train, y_test = train_test_split(X, y, test_size=0.2, random_state=42)\n",
    "\n",
    "# Print the shapes of train and test sets\n",
    "print(\"Train set shape:\", X_train.shape)\n",
    "print(\"Test set shape:\", X_test.shape)"
   ]
  },
  {
   "cell_type": "code",
   "execution_count": 22,
   "id": "81192b06",
   "metadata": {},
   "outputs": [],
   "source": [
    "from surprise import accuracy"
   ]
  },
  {
   "cell_type": "code",
   "execution_count": 23,
   "id": "2e0f0cb0",
   "metadata": {},
   "outputs": [
    {
     "name": "stdout",
     "output_type": "stream",
     "text": [
      "Computing the cosine similarity matrix...\n",
      "Done computing similarity matrix.\n",
      "RMSE: 0.7165\n",
      "RMSE: 0.72\n"
     ]
    }
   ],
   "source": [
    "from surprise import Reader, Dataset, KNNBasic\n",
    "from surprise.model_selection import train_test_split\n",
    "from surprise import accuracy\n",
    "\n",
    "# Drop duplicates and missing values\n",
    "df.drop_duplicates(subset=['TITLE'], inplace=True)\n",
    "df.dropna(subset=['SCORE'], inplace=True)\n",
    "\n",
    "# Load data into Surprise's Dataset\n",
    "reader = Reader(rating_scale=(1, 10))  # Assuming your scores are between 1 and 10\n",
    "data = Dataset.load_from_df(df[['MAIN_GENRE', 'RELEASE_YEAR', 'SCORE']], reader)\n",
    "\n",
    "# Build a train-test split\n",
    "trainset, testset = train_test_split(data, test_size=0.2, random_state=42)\n",
    "\n",
    "# Build a user-based collaborative filtering model using Surprise's KNNBasic\n",
    "sim_options = {'name': 'cosine', 'user_based': True}  # You can experiment with different similarity measures\n",
    "model = KNNBasic(sim_options=sim_options)\n",
    "model.fit(trainset)\n",
    "\n",
    "# Make predictions on the test set\n",
    "predictions = model.test(testset)\n",
    "\n",
    "# Calculate RMSE (Root Mean Squared Error) to evaluate the model\n",
    "rmse = accuracy.rmse(predictions)\n",
    "print(f'RMSE: {rmse:.2f}')\n"
   ]
  },
  {
   "cell_type": "code",
   "execution_count": 25,
   "id": "13465df4",
   "metadata": {},
   "outputs": [
    {
     "name": "stdout",
     "output_type": "stream",
     "text": [
      "['White Christmas' 'The Guns of Navarone' 'My Fair Lady'\n",
      " 'Bonnie and Clyde' 'Dirty Harry' 'The Exorcist'\n",
      " 'Monty Python and the Holy Grail' 'Taxi Driver' 'Life of Brian'\n",
      " 'The Blue Lagoon' 'Annie' 'Christine' 'Once Upon a Time in America'\n",
      " 'Stand by Me' 'Full Metal Jacket' 'When Harry Met Sally...' 'Awakenings'\n",
      " 'My Girl' 'A River Runs Through It' 'Menace II Society' 'Forrest Gump'\n",
      " 'Desperado' 'Happy Gilmore'\n",
      " 'Neon Genesis Evangelion: The End of Evangelion' 'Saving Private Ryan'\n",
      " 'Girl, Interrupted' 'The Patriot' 'Lagaan: Once Upon a Time in India'\n",
      " 'Road to Perdition' 'Big Fish' 'Swades' 'Memoirs of a Geisha'\n",
      " 'Rang De Basanti' 'Like Stars on Earth' 'Ip Man' '3 Idiots' 'Inception'\n",
      " 'Warrior' 'Django Unchained' 'Rush' 'Queen' 'Drishyam' 'Dangal'\n",
      " 'Bāhubali 2: The Conclusion' 'Andhadhun'\n",
      " 'Dave Chappelle: Sticks & Stones'\n",
      " 'David Attenborough: A Life on Our Planet' 'Bo Burnham: Inside'\n",
      " 'The Tinder Swindler']\n"
     ]
    }
   ],
   "source": [
    "existing_movie_titles = df['TITLE'].unique()\n",
    "print(existing_movie_titles)\n"
   ]
  },
  {
   "cell_type": "code",
   "execution_count": 26,
   "id": "4b4166b4",
   "metadata": {},
   "outputs": [
    {
     "name": "stdout",
     "output_type": "stream",
     "text": [
      "Hybrid Recommendations based on Queen:\n",
      "                    Movie Title  Score  Genre\n",
      "3              Bonnie and Clyde    7.7  drama\n",
      "10                        Annie    6.6  drama\n",
      "12  Once Upon a Time in America    8.3  drama\n",
      "13                  Stand by Me    8.1  drama\n",
      "14            Full Metal Jacket    8.3  drama\n",
      "16                   Awakenings    7.8  drama\n",
      "18      A River Runs Through It    7.2  drama\n",
      "19            Menace II Society    7.5  drama\n",
      "20                 Forrest Gump    8.8  drama\n",
      "24          Saving Private Ryan    8.6  drama\n"
     ]
    }
   ],
   "source": [
    "from sklearn.metrics.pairwise import linear_kernel\n",
    "\n",
    "# Compute the cosine similarity matrix\n",
    "cosine_sim = linear_kernel(tfidf_matrix, tfidf_matrix)\n",
    "\n",
    "# Get the indices of movie titles\n",
    "indices = pd.Series(df.index, index=df['TITLE']).drop_duplicates()\n",
    "\n",
    "def hybrid_recommendation(title):\n",
    "    idx = indices[title]\n",
    "    sim_scores = list(enumerate(cosine_sim[idx]))\n",
    "    sim_scores = sorted(sim_scores, key=lambda x: x[1], reverse=True)\n",
    "    sim_scores = sim_scores[1:11]  # Exclude the movie itself\n",
    "    movie_indices = [i[0] for i in sim_scores]\n",
    "    \n",
    "    movies = df['TITLE'].iloc[movie_indices]\n",
    "    scores = df['SCORE'].iloc[movie_indices]\n",
    "    genres = df['MAIN_GENRE'].iloc[movie_indices]\n",
    "    \n",
    "    recommended_movies = pd.DataFrame({\n",
    "        'Movie Title': movies,\n",
    "        'Score': scores,\n",
    "        'Genre': genres\n",
    "    })\n",
    "    return recommended_movies\n",
    "\n",
    "# Get recommendations for the movie title \"Queen\"\n",
    "movie_title = 'Queen'\n",
    "recommendations = hybrid_recommendation(movie_title)\n",
    "\n",
    "print(f\"Hybrid Recommendations based on {movie_title}:\")\n",
    "print(recommendations)\n"
   ]
  },
  {
   "cell_type": "code",
   "execution_count": 27,
   "id": "1adcce15",
   "metadata": {},
   "outputs": [
    {
     "name": "stdout",
     "output_type": "stream",
     "text": [
      "Evaluating RMSE of algorithm SVD on 5 split(s).\n",
      "\n",
      "                  Fold 1  Fold 2  Fold 3  Fold 4  Fold 5  Mean    Std     \n",
      "RMSE (testset)    0.4498  0.5245  0.5853  0.6433  0.8854  0.6177  0.1485  \n",
      "Fit time          0.51    0.00    0.00    0.00    0.00    0.10    0.21    \n",
      "Test time         0.00    0.00    0.00    0.00    0.00    0.00    0.00    \n",
      "Average RMSE: 0.6176569086187038\n"
     ]
    }
   ],
   "source": [
    "from surprise import SVD\n",
    "from surprise.model_selection import cross_validate\n",
    "\n",
    "# Define a Reader and load data\n",
    "reader = Reader(rating_scale=(1, 10))\n",
    "data = Dataset.load_from_df(df[['USER_ID', 'TITLE', 'SCORE']], reader)\n",
    "\n",
    "# Try out different algorithms and settings\n",
    "# Collaborative Filtering - SVD\n",
    "algorithm = SVD()\n",
    "\n",
    "# Evaluate using cross-validation\n",
    "results = cross_validate(algorithm, data, measures=['RMSE'], cv=5, verbose=True)\n",
    "\n",
    "# Print the average RMSE across folds\n",
    "print(\"Average RMSE:\", sum(results['test_rmse']) / len(results['test_rmse']))\n"
   ]
  },
  {
   "cell_type": "code",
   "execution_count": 28,
   "id": "b41b5a8f",
   "metadata": {},
   "outputs": [
    {
     "name": "stdout",
     "output_type": "stream",
     "text": [
      "RMSE: 0.7153\n",
      "RMSE: 0.72\n"
     ]
    }
   ],
   "source": [
    "from surprise import SVD\n",
    "\n",
    "# Define a Reader and load data\n",
    "reader = Reader(rating_scale=(1, 10))\n",
    "data = Dataset.load_from_df(df[['USER_ID', 'TITLE', 'SCORE']], reader)\n",
    "\n",
    "# Build a train-test split\n",
    "trainset, testset = train_test_split(data, test_size=0.2, random_state=42)\n",
    "\n",
    "# Initialize the SVD algorithm\n",
    "svd = SVD(n_factors=100, n_epochs=20, lr_all=0.005, reg_all=0.02)\n",
    "\n",
    "# Train the model\n",
    "svd.fit(trainset)\n",
    "\n",
    "# Make predictions on the test set\n",
    "predictions = svd.test(testset)\n",
    "\n",
    "# Evaluate using RMSE\n",
    "rmse = accuracy.rmse(predictions)\n",
    "print(f'RMSE: {rmse:.2f}')\n"
   ]
  },
  {
   "cell_type": "code",
   "execution_count": 29,
   "id": "954e5635",
   "metadata": {},
   "outputs": [
    {
     "name": "stdout",
     "output_type": "stream",
     "text": [
      "Movie Recommendation Engine Successfully Built and Implemented!\n"
     ]
    }
   ],
   "source": [
    "print(\"Movie Recommendation Engine Successfully Built and Implemented!\")"
   ]
  },
  {
   "cell_type": "code",
   "execution_count": null,
   "id": "3dd768c1",
   "metadata": {},
   "outputs": [],
   "source": []
  }
 ],
 "metadata": {
  "kernelspec": {
   "display_name": "Python 3 (ipykernel)",
   "language": "python",
   "name": "python3"
  },
  "language_info": {
   "codemirror_mode": {
    "name": "ipython",
    "version": 3
   },
   "file_extension": ".py",
   "mimetype": "text/x-python",
   "name": "python",
   "nbconvert_exporter": "python",
   "pygments_lexer": "ipython3",
   "version": "3.10.6"
  }
 },
 "nbformat": 4,
 "nbformat_minor": 5
}
